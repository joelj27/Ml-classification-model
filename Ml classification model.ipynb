{
 "cells": [
  {
   "cell_type": "code",
   "execution_count": 1,
   "id": "d1ef5140-a4d4-4372-abf8-5a09baecd8b9",
   "metadata": {
    "scrolled": true
   },
   "outputs": [
    {
     "name": "stderr",
     "output_type": "stream",
     "text": [
      "[nltk_data] Downloading package punkt to\n",
      "[nltk_data]     C:\\Users\\Admin\\AppData\\Roaming\\nltk_data...\n",
      "[nltk_data]   Package punkt is already up-to-date!\n",
      "D:\\work\\cataloging.ai_\\lib\\site-packages\\tqdm\\auto.py:21: TqdmWarning: IProgress not found. Please update jupyter and ipywidgets. See https://ipywidgets.readthedocs.io/en/stable/user_install.html\n",
      "  from .autonotebook import tqdm as notebook_tqdm\n"
     ]
    }
   ],
   "source": [
    "import nltk\n",
    "nltk.download('punkt')\n",
    "from nltk.tokenize import word_tokenize\n",
    "from sklearn.model_selection import train_test_split\n",
    "import numpy as np\n",
    "import pandas as pd\n",
    "from sentence_transformers import SentenceTransformer\n",
    "model = SentenceTransformer('all-MiniLM-L6-v2')\n",
    "from sklearn.neighbors import KNeighborsClassifier\n",
    "from sklearn.metrics import accuracy_score\n",
    "import pickle"
   ]
  },
  {
   "cell_type": "code",
   "execution_count": 2,
   "id": "b392eb15-7921-40b5-8975-e2d3c773afd6",
   "metadata": {},
   "outputs": [
    {
     "data": {
      "text/html": [
       "<div>\n",
       "<style scoped>\n",
       "    .dataframe tbody tr th:only-of-type {\n",
       "        vertical-align: middle;\n",
       "    }\n",
       "\n",
       "    .dataframe tbody tr th {\n",
       "        vertical-align: top;\n",
       "    }\n",
       "\n",
       "    .dataframe thead th {\n",
       "        text-align: right;\n",
       "    }\n",
       "</style>\n",
       "<table border=\"1\" class=\"dataframe\">\n",
       "  <thead>\n",
       "    <tr style=\"text-align: right;\">\n",
       "      <th></th>\n",
       "      <th>Id</th>\n",
       "      <th>Heading</th>\n",
       "      <th>Article.Banner.Image</th>\n",
       "      <th>Outlets</th>\n",
       "      <th>Article.Description</th>\n",
       "      <th>Full_Article</th>\n",
       "      <th>Article_Type</th>\n",
       "      <th>Tonality</th>\n",
       "    </tr>\n",
       "  </thead>\n",
       "  <tbody>\n",
       "    <tr>\n",
       "      <th>0</th>\n",
       "      <td>d6995462-5e87-453b-b64d-e9f1df6e94d2</td>\n",
       "      <td>A Puzzling Maneuver, Then Freefall: NTSB Repor...</td>\n",
       "      <td>NaN</td>\n",
       "      <td>Essex Caller</td>\n",
       "      <td>&lt;p&gt;The helicopter that crashed in Southeast Al...</td>\n",
       "      <td>&lt;p&gt;The helicopter that crashed in Southeast Al...</td>\n",
       "      <td>Commercial</td>\n",
       "      <td>Negative</td>\n",
       "    </tr>\n",
       "    <tr>\n",
       "      <th>1</th>\n",
       "      <td>8b05e939-a89e-4548-b92b-013822e8ee7d</td>\n",
       "      <td>Bells Nexus Air Taxi Concept Rings Changes Fo...</td>\n",
       "      <td>NaN</td>\n",
       "      <td>Aviation Week Network</td>\n",
       "      <td>&lt;p&gt;A year after teasing the fledgling electric...</td>\n",
       "      <td>&lt;p&gt;A year after teasing the fledgling electric...</td>\n",
       "      <td>Commercial</td>\n",
       "      <td>Positive</td>\n",
       "    </tr>\n",
       "    <tr>\n",
       "      <th>2</th>\n",
       "      <td>69fcd400-bceb-4255-8277-619f2d68ac0b</td>\n",
       "      <td>Bell Helicopter Show Air Taxi Nexus</td>\n",
       "      <td>http://images.tmtpost.com/uploads/images/2019/...</td>\n",
       "      <td>TMTPost</td>\n",
       "      <td>&lt;p&gt;Bell released the full-size design of the v...</td>\n",
       "      <td>&lt;p&gt;Bell released the full-size design of the v...</td>\n",
       "      <td>Commercial</td>\n",
       "      <td>Positive</td>\n",
       "    </tr>\n",
       "    <tr>\n",
       "      <th>3</th>\n",
       "      <td>17943578-c11b-414b-b3f5-063d3a93157b</td>\n",
       "      <td>BELL DÉVOILE LA CONCEPTION INTÉGRALE DE SON TA...</td>\n",
       "      <td>http://www.fredzone.org/wp-content/uploads/201...</td>\n",
       "      <td>Fredzone</td>\n",
       "      <td>&lt;p&gt;Bell est une soci&amp;eacute;t&amp;eacute; am&amp;eacut...</td>\n",
       "      <td>&lt;p&gt;Bell est une soci&amp;eacute;t&amp;eacute; am&amp;eacut...</td>\n",
       "      <td>Commercial</td>\n",
       "      <td>Positive</td>\n",
       "    </tr>\n",
       "    <tr>\n",
       "      <th>4</th>\n",
       "      <td>f33c7b11-5f77-4a98-bb2e-d36689042aea</td>\n",
       "      <td>Les premiers retours dOlivier Ezratty</td>\n",
       "      <td>NaN</td>\n",
       "      <td>FrenchWeb</td>\n",
       "      <td>&lt;p&gt;It was still anecdotal to observe the explo...</td>\n",
       "      <td>&lt;p&gt;It was still anecdotal to observe the explo...</td>\n",
       "      <td>Commercial</td>\n",
       "      <td>Positive</td>\n",
       "    </tr>\n",
       "  </tbody>\n",
       "</table>\n",
       "</div>"
      ],
      "text/plain": [
       "                                     Id  \\\n",
       "0  d6995462-5e87-453b-b64d-e9f1df6e94d2   \n",
       "1  8b05e939-a89e-4548-b92b-013822e8ee7d   \n",
       "2  69fcd400-bceb-4255-8277-619f2d68ac0b   \n",
       "3  17943578-c11b-414b-b3f5-063d3a93157b   \n",
       "4  f33c7b11-5f77-4a98-bb2e-d36689042aea   \n",
       "\n",
       "                                             Heading  \\\n",
       "0  A Puzzling Maneuver, Then Freefall: NTSB Repor...   \n",
       "1  Bells Nexus Air Taxi Concept Rings Changes Fo...   \n",
       "2                Bell Helicopter Show Air Taxi Nexus   \n",
       "3  BELL DÉVOILE LA CONCEPTION INTÉGRALE DE SON TA...   \n",
       "4             Les premiers retours dOlivier Ezratty   \n",
       "\n",
       "                                Article.Banner.Image                Outlets  \\\n",
       "0                                                NaN           Essex Caller   \n",
       "1                                                NaN  Aviation Week Network   \n",
       "2  http://images.tmtpost.com/uploads/images/2019/...                TMTPost   \n",
       "3  http://www.fredzone.org/wp-content/uploads/201...               Fredzone   \n",
       "4                                                NaN              FrenchWeb   \n",
       "\n",
       "                                 Article.Description  \\\n",
       "0  <p>The helicopter that crashed in Southeast Al...   \n",
       "1  <p>A year after teasing the fledgling electric...   \n",
       "2  <p>Bell released the full-size design of the v...   \n",
       "3  <p>Bell est une soci&eacute;t&eacute; am&eacut...   \n",
       "4  <p>It was still anecdotal to observe the explo...   \n",
       "\n",
       "                                        Full_Article Article_Type  Tonality  \n",
       "0  <p>The helicopter that crashed in Southeast Al...   Commercial  Negative  \n",
       "1  <p>A year after teasing the fledgling electric...   Commercial  Positive  \n",
       "2  <p>Bell released the full-size design of the v...   Commercial  Positive  \n",
       "3  <p>Bell est une soci&eacute;t&eacute; am&eacut...   Commercial  Positive  \n",
       "4  <p>It was still anecdotal to observe the explo...   Commercial  Positive  "
      ]
     },
     "execution_count": 2,
     "metadata": {},
     "output_type": "execute_result"
    }
   ],
   "source": [
    "data = pd.read_csv(\"articles.csv\", encoding='latin-1')\n",
    "data.head(5)"
   ]
  },
  {
   "cell_type": "code",
   "execution_count": 3,
   "id": "04a4eeb0-f6fd-4d9e-b45a-766ed34004d4",
   "metadata": {},
   "outputs": [
    {
     "name": "stdout",
     "output_type": "stream",
     "text": [
      "True\n"
     ]
    }
   ],
   "source": [
    "#check for nan values\n",
    "print(data.isnull().values.any())"
   ]
  },
  {
   "cell_type": "code",
   "execution_count": 4,
   "id": "d7064cc6-c1fc-44a0-8f11-6e0c5cbb6a12",
   "metadata": {},
   "outputs": [
    {
     "data": {
      "text/plain": [
       "2984"
      ]
     },
     "execution_count": 4,
     "metadata": {},
     "output_type": "execute_result"
    }
   ],
   "source": [
    "#count of nan\n",
    "data.isnull().sum().sum()"
   ]
  },
  {
   "cell_type": "code",
   "execution_count": 5,
   "id": "212a47f2-f59f-4713-a41d-aa90125e8b1b",
   "metadata": {},
   "outputs": [
    {
     "name": "stdout",
     "output_type": "stream",
     "text": [
      "False\n",
      "False\n",
      "False\n"
     ]
    }
   ],
   "source": [
    "#we are gonna make use of only column Full_Article and Full_Article\n",
    "print(data['Article_Type'].isnull().values.any())\n",
    "print(data['Heading'].isnull().values.any())\n",
    "print(data['Full_Article'].isnull().values.any())"
   ]
  },
  {
   "cell_type": "code",
   "execution_count": 6,
   "id": "dc56a7a5-8b44-4a21-8bb4-739889422310",
   "metadata": {},
   "outputs": [],
   "source": [
    "new_data = data[['Article_Type','Full_Article']].copy()"
   ]
  },
  {
   "cell_type": "code",
   "execution_count": 7,
   "id": "7122c2b9-98df-4a1a-8dc9-8994a4f2f871",
   "metadata": {},
   "outputs": [],
   "source": [
    "# vectorization with SentenceBERT\n",
    "sentence_embeddings_Article = model.encode(new_data['Full_Article'])"
   ]
  },
  {
   "cell_type": "code",
   "execution_count": 8,
   "id": "da49d358-b5c5-4c24-8642-089f37e003d1",
   "metadata": {},
   "outputs": [
    {
     "name": "stdout",
     "output_type": "stream",
     "text": [
      "Sentence: <p>The helicopter that crashed in Southeast Alaska in late September, killing three people, entered a 500-foot freefall before dropping to a Glacier Bay National Park beach, according to by the National Transportation Safety Board.&nbsp;The preliminary NTSB report released Friday offers no official probable cause. That determination won&lsquo;t be made until next year at the earliest.</p>\n",
      "Embedding: [-3.00309900e-03  2.38306094e-02  2.55466979e-02  8.20990931e-03\n",
      "  7.58432522e-02  3.03759594e-02 -4.55767214e-02  6.86481446e-02\n",
      " -1.21290544e-02  1.15365252e-01  6.37873337e-02 -2.67707137e-03\n",
      "  1.21438403e-04 -9.44028869e-02  1.69798303e-02  2.01346260e-02\n",
      " -6.18147962e-02 -2.72768363e-02 -4.00289036e-02  4.95141260e-02\n",
      " -3.67529457e-03  2.97724307e-02 -2.14730594e-02  2.37362422e-02\n",
      "  2.82483827e-02  4.85450104e-02 -2.91802455e-02 -1.53328776e-02\n",
      "  4.60210405e-02  1.34227714e-02 -1.25043653e-02  3.15553546e-02\n",
      " -2.35974863e-02 -1.85018359e-03  3.93959507e-02  5.84680699e-02\n",
      " -2.51155309e-02 -1.05497450e-01 -4.57701972e-03 -1.27270650e-02\n",
      " -2.66753673e-03  5.45720719e-02  5.91632202e-02 -1.43182473e-02\n",
      "  1.15907351e-02  1.13829356e-02 -4.24232380e-03 -5.17843328e-02\n",
      "  5.92192151e-02  7.78856222e-03 -1.98906343e-02  2.00180560e-02\n",
      "  2.45004911e-02  3.04380129e-03 -1.70606636e-02 -5.38297594e-02\n",
      "  1.48828253e-02 -6.90658465e-02 -3.84927690e-02 -4.60573938e-04\n",
      "  4.15913910e-02 -4.54390012e-02 -2.24144850e-02 -6.48652613e-02\n",
      "  9.92421061e-02  5.33174202e-02 -4.93200123e-02 -1.95711717e-01\n",
      "  4.57600653e-02  3.54510173e-02  7.60131404e-02  1.59054212e-02\n",
      "  3.12724803e-03  5.18767424e-02 -8.23445171e-02 -5.43202758e-02\n",
      "  3.68442945e-02  2.13741064e-02 -4.87420484e-02  7.03428909e-02\n",
      "  9.02960524e-02 -7.01937601e-02 -3.36292908e-02  4.83146422e-02\n",
      "  3.46389823e-02  6.65972978e-02  4.21243766e-03  7.08400309e-02\n",
      "  4.92217131e-02  2.90704402e-03 -4.11618799e-02 -4.85312566e-02\n",
      "  4.92243804e-02 -5.50023653e-03 -5.33258319e-02  3.45143713e-02\n",
      " -5.61325587e-02 -5.70773073e-02 -1.35256536e-02 -3.26190293e-02\n",
      "  1.76335103e-03  3.47393602e-02 -1.61538199e-02  5.14869988e-02\n",
      " -1.12515604e-02  6.02386035e-02  9.33485013e-03 -2.71985121e-02\n",
      "  4.69689108e-02  4.28789407e-02  3.40679362e-02 -2.15473417e-02\n",
      "  1.04812123e-01  7.37008750e-02 -8.61300379e-02 -9.85603686e-03\n",
      " -5.56142963e-02 -2.62266900e-02 -6.08426817e-02  6.27489612e-02\n",
      " -3.00438497e-02  2.66105868e-02  7.23230466e-02  3.69800143e-02\n",
      "  3.54675986e-02 -4.29731421e-02 -1.45103876e-02  3.63545395e-33\n",
      "  8.63455907e-02 -3.75140458e-02  4.36857902e-02 -1.14007266e-02\n",
      "  3.97856273e-02 -5.40061481e-02 -1.46975353e-01 -9.01455358e-02\n",
      "  4.72794771e-02  3.85496654e-02 -3.72246616e-02 -9.87488702e-02\n",
      " -5.31709641e-02 -5.81182502e-02  1.72600243e-03  5.59522072e-03\n",
      " -1.68831681e-03 -5.28902635e-02 -4.55022752e-02 -2.82465573e-02\n",
      "  3.57383154e-02 -5.92630617e-02 -6.95594698e-02  3.14402245e-02\n",
      " -1.76609829e-02  5.49011081e-02 -4.21577021e-02 -4.72561177e-03\n",
      "  1.71348993e-02  4.72332118e-03 -6.51511326e-02 -4.59456444e-02\n",
      " -3.03552803e-02  2.28486788e-02  4.65473942e-02  6.10589748e-03\n",
      "  9.10335779e-03  2.98387203e-02 -5.41749299e-02  7.68167302e-02\n",
      " -2.00780351e-02 -8.58792588e-02 -9.05818567e-02  1.53896762e-02\n",
      " -1.13612339e-02 -1.23323366e-01  2.99889967e-02 -2.22204402e-02\n",
      "  1.39452303e-02 -6.72787987e-03 -2.41793990e-02  1.93269197e-02\n",
      "  1.36986701e-02  1.73730671e-03 -1.20126633e-02  5.39199486e-02\n",
      "  6.96421564e-02 -1.47062130e-02  1.50780296e-02  1.10880785e-01\n",
      " -3.66313420e-02 -5.60867302e-02  1.44399339e-02 -8.69189575e-03\n",
      " -3.43733504e-02 -5.89119233e-02  6.46508038e-02  3.82897034e-02\n",
      " -4.84640105e-03 -5.24475705e-03 -3.12874131e-02 -2.99611446e-02\n",
      "  5.11561744e-02 -5.11070155e-02  2.32331292e-03 -6.24768473e-02\n",
      " -5.95855713e-02 -1.44922091e-02  3.85670997e-02  6.91945478e-02\n",
      "  1.03583671e-01  8.62904359e-03  9.53382850e-02 -2.19529718e-02\n",
      " -2.23451797e-02  3.13880504e-03 -9.06836055e-03 -4.89090532e-02\n",
      " -2.93307658e-02 -4.89254445e-02 -8.71888772e-02  3.60981049e-03\n",
      "  9.19383857e-03 -7.67300464e-03  3.31374668e-02 -5.55033388e-33\n",
      " -4.37500961e-02 -2.56168917e-02 -5.74547872e-02 -1.98341976e-03\n",
      " -3.64946276e-02 -5.60232475e-02  4.44005709e-03  6.38539791e-02\n",
      " -5.07705696e-02 -3.58670279e-02 -7.40846992e-02  3.52276862e-02\n",
      "  2.78275590e-02  6.36078492e-02  7.30292872e-02 -3.41779366e-02\n",
      "  4.24352102e-03  2.00436562e-02 -9.80264228e-03 -4.60037366e-02\n",
      "  9.07204300e-02 -8.28855783e-02 -5.09798387e-03  3.69026363e-02\n",
      "  4.90587726e-02  6.15794100e-02  6.81657195e-02  5.52702025e-02\n",
      " -1.77263375e-02 -1.82544403e-02 -1.64956003e-02  1.20693380e-02\n",
      "  9.18572918e-02  6.48896471e-02 -4.46908996e-02  1.17772641e-02\n",
      " -2.30870526e-02 -5.73760597e-03 -4.77675311e-02 -3.45953032e-02\n",
      "  3.99333239e-02  6.47853613e-02 -6.27970416e-03  9.45890695e-03\n",
      " -2.78627388e-02 -1.07574120e-01  6.12148456e-02  7.00099990e-02\n",
      "  9.75427032e-02 -7.29933828e-02 -4.61326018e-02 -3.90598439e-02\n",
      " -4.44747880e-02  1.05244756e-01  1.18975706e-01  1.32719437e-02\n",
      "  5.92986457e-02 -3.89679782e-02  6.22990206e-02 -3.54489428e-03\n",
      " -1.02835149e-01  3.03698741e-02 -2.43995991e-02  9.55620632e-02\n",
      "  5.80775328e-02  3.03037111e-02  2.91827284e-02  4.59744185e-02\n",
      " -1.39931394e-02  1.50354011e-02 -2.90418020e-03  2.66183931e-02\n",
      " -1.34839481e-02 -4.78968844e-02  2.23345142e-02  5.14120199e-02\n",
      " -7.46330470e-02  1.01135679e-01  3.36565822e-02 -9.21249911e-02\n",
      "  2.46154964e-02 -6.95650503e-02 -4.20026071e-02  4.79594693e-02\n",
      " -1.58703804e-03  5.59187680e-03  9.32855255e-05 -7.15639591e-02\n",
      " -4.63215411e-02 -2.60777995e-02 -9.25566778e-02  5.04564010e-02\n",
      "  6.07998446e-02  5.59191331e-02 -6.63487241e-02 -4.91495982e-08\n",
      " -8.23492091e-03  1.69199750e-01 -8.96768942e-02  9.40085500e-02\n",
      "  9.17768925e-02 -2.36324314e-02  2.67304182e-02 -7.57219037e-03\n",
      "  7.83547200e-03  2.62581836e-02 -6.22254498e-02 -3.44529711e-02\n",
      " -1.51805189e-02  8.85034651e-02 -8.94384086e-03 -7.91172534e-02\n",
      " -8.95282179e-02 -2.05439329e-02 -2.98908656e-03 -7.43387151e-04\n",
      " -1.81066673e-02 -5.53360246e-02 -1.37097659e-02 -3.26991268e-02\n",
      " -3.40373516e-02  8.26906413e-02 -4.98152338e-02  6.13806257e-03\n",
      "  1.59392953e-02  6.42642379e-02 -1.46470428e-01 -3.26400213e-02\n",
      " -6.97542876e-02 -3.31929699e-02 -6.80091307e-02  5.88618161e-04\n",
      "  3.83251645e-02 -5.27851703e-03  5.35907075e-02 -5.10655679e-02\n",
      "  2.74476670e-02  8.38071704e-02 -8.05024058e-04 -2.23975442e-03\n",
      " -3.17761698e-03  6.68351948e-02 -7.19894096e-03 -6.37974516e-02\n",
      "  5.22704124e-02  1.52742176e-03 -1.80795286e-02 -6.90173730e-02\n",
      " -2.54107062e-02  8.19205046e-02  1.62291564e-02  4.43682708e-02\n",
      " -2.27238014e-02 -7.65145421e-02  1.22016324e-02 -5.95641369e-03\n",
      " -3.34290937e-02 -6.96186870e-02 -1.62943844e-02  7.11158523e-03]\n"
     ]
    }
   ],
   "source": [
    "#sample\n",
    "for sentence, embedding in zip(new_data['Full_Article'], sentence_embeddings_Article):\n",
    "    print(\"Sentence:\", sentence)\n",
    "    print(\"Embedding:\", embedding)\n",
    "    break"
   ]
  },
  {
   "cell_type": "code",
   "execution_count": 9,
   "id": "b804277f-059d-45bc-98d5-b4efb7e06723",
   "metadata": {},
   "outputs": [
    {
     "name": "stdout",
     "output_type": "stream",
     "text": [
      "X_tr shape: (3228, 384)\n"
     ]
    }
   ],
   "source": [
    "features = sentence_embeddings_Article\n",
    "class_ = new_data['Article_Type']\n",
    "\n",
    "# split into training and validation sets\n",
    "X_tr, X_val, y_tr, y_val = train_test_split(features, class_, test_size=0.25, random_state=42)\n",
    "\n",
    "print('X_tr shape:',X_tr.shape)"
   ]
  },
  {
   "cell_type": "code",
   "execution_count": 10,
   "id": "59a6db33-87f9-4402-8b7a-b08a4e0498cb",
   "metadata": {},
   "outputs": [
    {
     "name": "stdout",
     "output_type": "stream",
     "text": [
      "X_val shape: (1077, 384)\n"
     ]
    }
   ],
   "source": [
    "print('X_val shape:',X_val.shape)"
   ]
  },
  {
   "cell_type": "code",
   "execution_count": 13,
   "id": "e3306c3c-157d-4631-871f-b4024d8d6d32",
   "metadata": {},
   "outputs": [
    {
     "data": {
      "text/plain": [
       "7"
      ]
     },
     "execution_count": 13,
     "metadata": {},
     "output_type": "execute_result"
    }
   ],
   "source": [
    "len(list(set(data['Article_Type'].tolist())))"
   ]
  },
  {
   "cell_type": "code",
   "execution_count": 14,
   "id": "559b930d-217a-4e47-8a92-c3b2f29b0cb8",
   "metadata": {},
   "outputs": [],
   "source": [
    "neigh = KNeighborsClassifier(n_neighbors=7)"
   ]
  },
  {
   "cell_type": "code",
   "execution_count": 15,
   "id": "e813d57f-904b-4e0d-ac20-7e6026b0c460",
   "metadata": {},
   "outputs": [
    {
     "data": {
      "text/html": [
       "<style>#sk-container-id-1 {color: black;}#sk-container-id-1 pre{padding: 0;}#sk-container-id-1 div.sk-toggleable {background-color: white;}#sk-container-id-1 label.sk-toggleable__label {cursor: pointer;display: block;width: 100%;margin-bottom: 0;padding: 0.3em;box-sizing: border-box;text-align: center;}#sk-container-id-1 label.sk-toggleable__label-arrow:before {content: \"▸\";float: left;margin-right: 0.25em;color: #696969;}#sk-container-id-1 label.sk-toggleable__label-arrow:hover:before {color: black;}#sk-container-id-1 div.sk-estimator:hover label.sk-toggleable__label-arrow:before {color: black;}#sk-container-id-1 div.sk-toggleable__content {max-height: 0;max-width: 0;overflow: hidden;text-align: left;background-color: #f0f8ff;}#sk-container-id-1 div.sk-toggleable__content pre {margin: 0.2em;color: black;border-radius: 0.25em;background-color: #f0f8ff;}#sk-container-id-1 input.sk-toggleable__control:checked~div.sk-toggleable__content {max-height: 200px;max-width: 100%;overflow: auto;}#sk-container-id-1 input.sk-toggleable__control:checked~label.sk-toggleable__label-arrow:before {content: \"▾\";}#sk-container-id-1 div.sk-estimator input.sk-toggleable__control:checked~label.sk-toggleable__label {background-color: #d4ebff;}#sk-container-id-1 div.sk-label input.sk-toggleable__control:checked~label.sk-toggleable__label {background-color: #d4ebff;}#sk-container-id-1 input.sk-hidden--visually {border: 0;clip: rect(1px 1px 1px 1px);clip: rect(1px, 1px, 1px, 1px);height: 1px;margin: -1px;overflow: hidden;padding: 0;position: absolute;width: 1px;}#sk-container-id-1 div.sk-estimator {font-family: monospace;background-color: #f0f8ff;border: 1px dotted black;border-radius: 0.25em;box-sizing: border-box;margin-bottom: 0.5em;}#sk-container-id-1 div.sk-estimator:hover {background-color: #d4ebff;}#sk-container-id-1 div.sk-parallel-item::after {content: \"\";width: 100%;border-bottom: 1px solid gray;flex-grow: 1;}#sk-container-id-1 div.sk-label:hover label.sk-toggleable__label {background-color: #d4ebff;}#sk-container-id-1 div.sk-serial::before {content: \"\";position: absolute;border-left: 1px solid gray;box-sizing: border-box;top: 0;bottom: 0;left: 50%;z-index: 0;}#sk-container-id-1 div.sk-serial {display: flex;flex-direction: column;align-items: center;background-color: white;padding-right: 0.2em;padding-left: 0.2em;position: relative;}#sk-container-id-1 div.sk-item {position: relative;z-index: 1;}#sk-container-id-1 div.sk-parallel {display: flex;align-items: stretch;justify-content: center;background-color: white;position: relative;}#sk-container-id-1 div.sk-item::before, #sk-container-id-1 div.sk-parallel-item::before {content: \"\";position: absolute;border-left: 1px solid gray;box-sizing: border-box;top: 0;bottom: 0;left: 50%;z-index: -1;}#sk-container-id-1 div.sk-parallel-item {display: flex;flex-direction: column;z-index: 1;position: relative;background-color: white;}#sk-container-id-1 div.sk-parallel-item:first-child::after {align-self: flex-end;width: 50%;}#sk-container-id-1 div.sk-parallel-item:last-child::after {align-self: flex-start;width: 50%;}#sk-container-id-1 div.sk-parallel-item:only-child::after {width: 0;}#sk-container-id-1 div.sk-dashed-wrapped {border: 1px dashed gray;margin: 0 0.4em 0.5em 0.4em;box-sizing: border-box;padding-bottom: 0.4em;background-color: white;}#sk-container-id-1 div.sk-label label {font-family: monospace;font-weight: bold;display: inline-block;line-height: 1.2em;}#sk-container-id-1 div.sk-label-container {text-align: center;}#sk-container-id-1 div.sk-container {/* jupyter's `normalize.less` sets `[hidden] { display: none; }` but bootstrap.min.css set `[hidden] { display: none !important; }` so we also need the `!important` here to be able to override the default hidden behavior on the sphinx rendered scikit-learn.org. See: https://github.com/scikit-learn/scikit-learn/issues/21755 */display: inline-block !important;position: relative;}#sk-container-id-1 div.sk-text-repr-fallback {display: none;}</style><div id=\"sk-container-id-1\" class=\"sk-top-container\"><div class=\"sk-text-repr-fallback\"><pre>KNeighborsClassifier(n_neighbors=7)</pre><b>In a Jupyter environment, please rerun this cell to show the HTML representation or trust the notebook. <br />On GitHub, the HTML representation is unable to render, please try loading this page with nbviewer.org.</b></div><div class=\"sk-container\" hidden><div class=\"sk-item\"><div class=\"sk-estimator sk-toggleable\"><input class=\"sk-toggleable__control sk-hidden--visually\" id=\"sk-estimator-id-1\" type=\"checkbox\" checked><label for=\"sk-estimator-id-1\" class=\"sk-toggleable__label sk-toggleable__label-arrow\">KNeighborsClassifier</label><div class=\"sk-toggleable__content\"><pre>KNeighborsClassifier(n_neighbors=7)</pre></div></div></div></div></div>"
      ],
      "text/plain": [
       "KNeighborsClassifier(n_neighbors=7)"
      ]
     },
     "execution_count": 15,
     "metadata": {},
     "output_type": "execute_result"
    }
   ],
   "source": [
    "neigh.fit(X_tr, y_tr)"
   ]
  },
  {
   "cell_type": "code",
   "execution_count": 16,
   "id": "08435b05-fc8f-4fbf-b83d-089382143f35",
   "metadata": {},
   "outputs": [],
   "source": [
    "y_pred=neigh.predict(X_val)"
   ]
  },
  {
   "cell_type": "code",
   "execution_count": 17,
   "id": "332615bd-3d80-4c9f-b29f-b2dfab2c3290",
   "metadata": {},
   "outputs": [
    {
     "name": "stdout",
     "output_type": "stream",
     "text": [
      "Accuracy score: 0.9229340761374187\n"
     ]
    }
   ],
   "source": [
    "print(\"Accuracy score:\",accuracy_score(y_val, y_pred))"
   ]
  },
  {
   "cell_type": "code",
   "execution_count": 18,
   "id": "69dd0d4c-0b28-425e-b32b-363dd303df87",
   "metadata": {},
   "outputs": [],
   "source": [
    "# save the model\n",
    "filename = \"model.pickle\"\n",
    "# save model\n",
    "pickle.dump(neigh, open(filename, \"wb\"))"
   ]
  },
  {
   "cell_type": "code",
   "execution_count": 19,
   "id": "5155de4a-13db-4009-aad9-09d53d23feb5",
   "metadata": {},
   "outputs": [],
   "source": [
    "# load model\n",
    "loaded_model = pickle.load(open(filename, \"rb\"))"
   ]
  },
  {
   "cell_type": "code",
   "execution_count": 20,
   "id": "427237a2-6ed5-4009-a69f-73c5c993bfb8",
   "metadata": {},
   "outputs": [],
   "source": [
    "# new data test from the url: https://helihub.com/2018/10/22/1st-h125-delivered-with-blr-fastfin-kit/\n",
    "input_article=\"The first H125 equipped with the “Supplemental Type Certificate” (STC) BLR FastFin directly installed by Airbus on the assembly line was delivered to Heli-Austria. Thanks’ to the partnership signed with BLR Aerospace, Airbus Helicopters is now proposing the BLR FastFin Tail Rotor Enhancement and Stability System as an option or a retrofit for its H125 aircraft. As an option on a new aircraft, the customer will benefit from an integrated solution with an aircraft immediately ready for operations at its delivery. The BLR FastFin is providing outstanding performances in high and hot conditions by reducing the power required by the tail rotor, both for flight efficiency and flight experience: Read more at https://helihub.com/2018/10/22/1st-h125-delivered-with-blr-fastfin-kit/\""
   ]
  },
  {
   "cell_type": "code",
   "execution_count": 21,
   "id": "50ecdac9-ab92-4875-909d-e80479abb066",
   "metadata": {},
   "outputs": [],
   "source": [
    "test_vector=sentence_embeddings_Article = model.encode([input_article])\n",
    "output_predict=loaded_model.predict(test_vector)"
   ]
  },
  {
   "cell_type": "code",
   "execution_count": 22,
   "id": "eddf7384-246c-4c27-8649-b06745cb1f96",
   "metadata": {},
   "outputs": [
    {
     "name": "stdout",
     "output_type": "stream",
     "text": [
      "input: The first H125 equipped with the “Supplemental Type Certificate” (STC) BLR FastFin directly installed by Airbus on the assembly line was delivered to Heli-Austria. Thanks’ to the partnership signed with BLR Aerospace, Airbus Helicopters is now proposing the BLR FastFin Tail Rotor Enhancement and Stability System as an option or a retrofit for its H125 aircraft. As an option on a new aircraft, the customer will benefit from an integrated solution with an aircraft immediately ready for operations at its delivery. The BLR FastFin is providing outstanding performances in high and hot conditions by reducing the power required by the tail rotor, both for flight efficiency and flight experience: Read more at https://helihub.com/2018/10/22/1st-h125-delivered-with-blr-fastfin-kit/\n",
      "predicted artice type: Commercial\n"
     ]
    }
   ],
   "source": [
    "print(\"input:\",input_article)\n",
    "print(\"predicted artice type:\",output_predict[0])"
   ]
  },
  {
   "cell_type": "code",
   "execution_count": null,
   "id": "f01a5efd-488a-4c82-8846-b981fa9bdd01",
   "metadata": {},
   "outputs": [],
   "source": []
  }
 ],
 "metadata": {
  "kernelspec": {
   "display_name": "Python 3 (ipykernel)",
   "language": "python",
   "name": "python3"
  },
  "language_info": {
   "codemirror_mode": {
    "name": "ipython",
    "version": 3
   },
   "file_extension": ".py",
   "mimetype": "text/x-python",
   "name": "python",
   "nbconvert_exporter": "python",
   "pygments_lexer": "ipython3",
   "version": "3.10.11"
  }
 },
 "nbformat": 4,
 "nbformat_minor": 5
}
